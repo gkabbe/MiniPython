{
 "cells": [
  {
   "cell_type": "markdown",
   "metadata": {},
   "source": [
    "# Hartree Fock\n",
    "## Molekül-Orbitale\n",
    "### MO-LCAO Beschreibung von $H_2$"
   ]
  },
  {
   "cell_type": "markdown",
   "metadata": {},
   "source": [
    "Hinweis: Dieses Notebook orientiert sich an S. 55 ff. im Buch Modern Quantum Chemistry: Introduction to Advanced Electronic Structure Theory von Szabo und Ostlund\n",
    "\n",
    "Das 1s-Orbital eines Wasserstoff-Atoms ist gegeben durch\n",
    "\n",
    "$$\\Phi({\\bf r}) = (\\zeta^3/\\pi)^{1/2} \\exp(-\\zeta(|{\\bf r} - {\\bf R}|)$$\n",
    "\n",
    "mit $\\zeta = 1.0$\n",
    "\n",
    "Dieses Orbital wird auch *Slater Orbital* genannt\n",
    "\n",
    "\n",
    "\n",
    "Alternativ kann das 1s-Orbital durch eine Gauß-Funktion dargestellt werden.\n",
    "Das hat den Vorteil, dass Integrale leichter berechnet werden können.\n",
    "\n",
    "Ein Gauß-Orbital hat die Form\n",
    "\n",
    "$$\\Phi({\\bf r}) = (2\\alpha/\\pi)^{3/4} \\exp(-\\alpha|{\\bf r} - {\\bf R}|^2)$$\n",
    "\n",
    "Mit $\\alpha = 1$\n"
   ]
  },
  {
   "cell_type": "code",
   "execution_count": null,
   "metadata": {
    "collapsed": true
   },
   "outputs": [],
   "source": [
    "import numpy as np\n",
    "import matplotlib.pylab as plt\n",
    "%matplotlib inline"
   ]
  },
  {
   "cell_type": "markdown",
   "metadata": {},
   "source": [
    "### Aufgabe 1\n",
    "\n",
    "Schreiben Sie eine Funktion slater(r, R), die zwei Vektoren r und R als Eingabe hat und einen Wert für Phi zurückgibt.\n",
    "\n",
    "\n",
    "### Aufgabe 2\n",
    "\n",
    "Implementieren Sie analog eine Funktion, die ein Gauß-Orbital berechnet\n",
    "\n",
    "Wenn Sie beide Funktionen in der unteren Zelle implementiert haben, schreiben Sie test() am Ende, um sich beide Funktionen plotten zu lassen"
   ]
  },
  {
   "cell_type": "code",
   "execution_count": null,
   "metadata": {
    "collapsed": false
   },
   "outputs": [],
   "source": [
    "def slater(r, R):\n",
    "    # Hier bitte Code einfügen\n",
    "    # Hinweis: den Betrag von r - R berechnen Sie mithilfe von np.linalg.norm(r - R, axis=-1)\n",
    "    return (1 / np.pi)**0.5 * np.exp(-np.linalg.norm(r - R, axis=-1))\n",
    "\n",
    "\n",
    "def gaussian(r, R):\n",
    "    # Hier bitte Code einfügen\n",
    "    return (2 / np.pi)**0.75 * np.exp(-np.linalg.norm(r - R, axis=-1)**2)\n",
    "\n",
    "\n",
    "def test():\n",
    "    # Erzeugt 50 Werte für r von -2 bis 2\n",
    "    r = np.linspace(-2, 2, 50)[:, np.newaxis]\n",
    "    # Der Ursprung wird auf 0 gesetzt\n",
    "    R = 0\n",
    "\n",
    "    slat = slater(r, R)\n",
    "    gauss = gaussian(r, R)\n",
    "\n",
    "    plt.plot(r, slat, label=\"Slater Orbital\")\n",
    "    plt.plot(r, gauss, label=\"Gaussian Orbital\")\n",
    "    plt.legend()\n",
    "    plt.show()\n",
    "\n",
    "\n",
    "test()"
   ]
  },
  {
   "cell_type": "markdown",
   "metadata": {},
   "source": [
    "Sie sollten nun die zwei Orbitale sehen.\n",
    "\n",
    "\n",
    "### Aufgabe 3 - Normierung\n",
    "\n",
    "Vergewissern Sie sich nun, dass beide Orbitale normiert sind, indem Sie die quadrierten Wellenfunktionen über drei Dimensionen integrieren:\n",
    "$$ \\int\\limits_V \\Phi^*({\\bf r})\\Phi({\\bf r}) dV \\approx \\sum\\limits_i \\Phi^*({\\bf r})\\Phi({\\bf r}) \\Delta V$$\n",
    "Gehen Sie dazu vor wie folgt:\n",
    "  * Erzeugen Sie mithilfe von np.linspace drei Vektoren x_range, y_range und z_range mit Werten zwischen -5 und 5\n",
    "  * Definieren Sie eine Variable *summe*. \n",
    "  Iterieren Sie mithilfe dreier for-Schleifen über alle Punkte in x-, y- und z-Richtung und addieren Sie für jede x-y-z-Kombination das Quadrat der Wellenfunktion an dem jeweiligen Punkt multipliziert mit dem Volumenelement zu *summe*"
   ]
  },
  {
   "cell_type": "code",
   "execution_count": null,
   "metadata": {
    "collapsed": false
   },
   "outputs": [],
   "source": [
    "x_range = y_range = z_range = np.linspace(-5, 5)\n",
    "\n",
    "summe_gauss, summe_slater = 0, 0\n",
    "R = 0\n",
    "dV = (x_range[1] - x_range[0])**3\n",
    "\n",
    "for x in x_range:\n",
    "    for y in y_range:\n",
    "        for z in z_range:\n",
    "            r = np.array([x, y, z])\n",
    "            gauss_val = gaussian(r, R)\n",
    "            slater_val = slater(r, R)\n",
    "            summe_gauss += gauss_val**2 * dV\n",
    "            summe_slater += slater_val**2 * dV\n",
    "print(summe_gauss, summe_slater)"
   ]
  },
  {
   "cell_type": "markdown",
   "metadata": {
    "collapsed": true
   },
   "source": [
    "### Aufgabe 4 - Orthogonalität\n",
    "\n",
    "Überprüfen Sie nun die Orthogonalität der Gaußschen Wellenfunktion.\n",
    "Im Falle von $H_2$ und dem Modell der Minimal Orbital - Linear Combination of Atomic Orbitals (MO-LCAO), existieren zwei Gaußsche Funktionen $\\Phi_1$ und $\\Phi_2$, deren Zentren sich bei $R_1$ respektive $R_2$ befinden.\n",
    "\n",
    "Berechnen Sie das Überlappintegral $$ S_{12} = \\int\\limits_V \\Phi_1^*({\\bf r}, {\\bf R_1}) \\Phi_2({\\bf r}, {\\bf R_2}) dV $$\n",
    "\n",
    "* für $R_1$ = $R_2$ = [0, 0, 0]\n",
    "* für $R_1$ = [0, 0, 0], $R_2$ = [1, 0, 0]\n",
    "* Optional: Plotten Sie den Verlauf von $S_{12}$ für verschiedene Werte von $R_2$\n",
    "\n",
    "\n",
    "Konstruieren Sie nun die folgenden Funktionen:\n",
    "\n",
    "$$\\Psi_1 = \\frac{1}{\\sqrt{2(1 + S_{12})}}(\\Phi_1 + \\Phi_2)$$\n",
    "\n",
    "$$\\Psi_2 = \\frac{1}{\\sqrt{2(1 - S_{12})}}(\\Phi_1 - \\Phi_2)$$\n",
    "\n",
    "* Zeigen Sie, dass $\\Psi_1$ und $\\Psi_2$ orthonormal zueinander sind.\n",
    "* Plotten Sie die beiden Funktionen entlang der x-Achse"
   ]
  },
  {
   "cell_type": "code",
   "execution_count": null,
   "metadata": {
    "collapsed": false
   },
   "outputs": [],
   "source": [
    "def overlap(f1, f2):\n",
    "    x_range = y_range = z_range = np.linspace(-5, 5)\n",
    "    summe = 0\n",
    "    dV = (x_range[1] - x_range[0])**3\n",
    "    for x in x_range:\n",
    "        for y in y_range:\n",
    "            for z in z_range:\n",
    "                r = np.array([x, y, z])\n",
    "                val1, val2 = f1(r), f2(r)\n",
    "                summe += val1 * val2 * dV\n",
    "    return summe\n",
    "\n",
    "\n",
    "def phi_at_zero(r):\n",
    "    return gaussian(r, 0)\n",
    "\n",
    "\n",
    "def phi_at_one(r):\n",
    "    return gaussian(r, [1, 0, 0])\n",
    "\n",
    "S_12 = overlap(phi_at_zero, phi_at_one)\n",
    "\n",
    "def psi_1(r):\n",
    "    return 1 / (np.sqrt(2 * (1 + S_12))) * (phi_at_zero(r) + phi_at_one(r))\n",
    "\n",
    "\n",
    "def psi_2(r):\n",
    "    return 1 / (np.sqrt(2 * (1 - S_12))) * (phi_at_zero(r) - phi_at_one(r))\n",
    "\n",
    "\n",
    "#print(overlap(phi_at_zero, phi_at_zero))\n",
    "print(overlap(psi_1, psi_2))"
   ]
  },
  {
   "cell_type": "code",
   "execution_count": null,
   "metadata": {
    "collapsed": true
   },
   "outputs": [],
   "source": []
  }
 ],
 "metadata": {
  "anaconda-cloud": {},
  "kernelspec": {
   "display_name": "Python [conda root]",
   "language": "python",
   "name": "conda-root-py"
  },
  "language_info": {
   "codemirror_mode": {
    "name": "ipython",
    "version": 3
   },
   "file_extension": ".py",
   "mimetype": "text/x-python",
   "name": "python",
   "nbconvert_exporter": "python",
   "pygments_lexer": "ipython3",
   "version": "3.5.2"
  }
 },
 "nbformat": 4,
 "nbformat_minor": 1
}
