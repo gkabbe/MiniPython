{
 "cells": [
  {
   "cell_type": "markdown",
   "metadata": {},
   "source": [
    "# Hartree Fock\n",
    "## Molekül-Orbitale\n",
    "### MO-LCAO Beschreibung von $H_2$"
   ]
  },
  {
   "cell_type": "markdown",
   "metadata": {},
   "source": [
    "Das 1s-Orbital eines Wasserstoff-Atoms ist gegeben durch\n",
    "\n",
    "$$\\Phi(\\bf{r}) = (\\zeta^3/\\pi)^{1/2} \\exp(-\\zeta(|\\bf{r} - \\bf{R}|)$$\n",
    "\n",
    "mit $\\zeta = 1.0$\n",
    "\n",
    "Dieses Orbital wird auch *Slater Orbital* genannt\n",
    "\n",
    "\n",
    "\n",
    "Alternativ kann das 1s-Orbital durch eine Gauß-Funktion dargestellt werden.\n",
    "Das hat den Vorteil, dass Integrale leichter berechnet werden können.\n",
    "\n",
    "Ein Gauß-Orbital hat die Form\n",
    "\n",
    "$$\\Phi(\\bf{r}) = (2\\alpha/\\pi)^{3/4} \\exp(-\\alpha|\\bf{r} - \\bf{R}|^2)$$\n",
    "\n",
    "Der Einfachheit halber setzen wir hier $\\alpha = 1$\n"
   ]
  },
  {
   "cell_type": "code",
   "execution_count": null,
   "metadata": {
    "collapsed": true
   },
   "outputs": [],
   "source": [
    "import numpy as np\n",
    "import matplotlib.pylab as plt\n",
    "%matplotlib inline"
   ]
  },
  {
   "cell_type": "markdown",
   "metadata": {},
   "source": [
    "### Aufgabe 1\n",
    "\n",
    "Schreiben Sie eine Funktion slater(r, R), die zwei Vektoren r und R als Eingabe hat und einen Wert für Phi zurückgibt.\n",
    "\n",
    "\n",
    "### Aufgabe 2\n",
    "\n",
    "Implementieren Sie analog eine Funktion, die ein Gauß-Orbital berechnet\n",
    "\n",
    "Wenn Sie beide Funktionen in der unteren Zelle implementiert haben, schreiben Sie test() am Ende, um sich beide Funktionen plotten zu lassen"
   ]
  },
  {
   "cell_type": "code",
   "execution_count": null,
   "metadata": {
    "collapsed": false
   },
   "outputs": [],
   "source": [
    "def slater(r, R):\n",
    "    # Hier bitte Code einfügen\n",
    "    # Hinweis: den Betrag von r - R berechnen Sie mithilfe von np.linalg.norm(r - R, axis=-1)\n",
    "    pass\n",
    "\n",
    "\n",
    "def gaussian(r, R):\n",
    "    # Hier bitte Code einfügen\n",
    "    pass\n",
    "\n",
    "\n",
    "def test():\n",
    "    # Erzeugt 50 Werte für r von -2 bis 2\n",
    "    r = np.linspace(-2, 2, 50)[:, np.newaxis]\n",
    "    # Der Ursprung wird auf 0 gesetzt\n",
    "    R = 0\n",
    "\n",
    "    slat = slater(r, R)\n",
    "    gauss = gaussian(r, R)\n",
    "\n",
    "    plt.plot(r, slat, label=\"Slater Orbital\")\n",
    "    plt.plot(r, gauss, label=\"Gaussian Orbital\")\n",
    "    plt.legend()\n",
    "    plt.show()"
   ]
  },
  {
   "cell_type": "markdown",
   "metadata": {},
   "source": []
  }
 ],
 "metadata": {
  "anaconda-cloud": {},
  "kernelspec": {
   "display_name": "Python [conda root]",
   "language": "python",
   "name": "conda-root-py"
  },
  "language_info": {
   "codemirror_mode": {
    "name": "ipython",
    "version": 3
   },
   "file_extension": ".py",
   "mimetype": "text/x-python",
   "name": "python",
   "nbconvert_exporter": "python",
   "pygments_lexer": "ipython3",
   "version": "3.5.2"
  }
 },
 "nbformat": 4,
 "nbformat_minor": 1
}
