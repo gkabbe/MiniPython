{
 "cells": [
  {
   "cell_type": "markdown",
   "metadata": {},
   "source": [
    "# Numpy Vorgeplänkel"
   ]
  },
  {
   "cell_type": "code",
   "execution_count": null,
   "metadata": {
    "collapsed": true
   },
   "outputs": [],
   "source": [
    "import numpy as np\n",
    "import matplotlib.pylab as plt\n",
    "%matplotlib inline"
   ]
  },
  {
   "cell_type": "markdown",
   "metadata": {},
   "source": [
    "## Funktionen in Numpy\n",
    "\n",
    "Um in Numpy Funktionen darzustellen, müssen wir zuerst einen Array kreieren, der Werte aus der Definitionsmenge enthält:"
   ]
  },
  {
   "cell_type": "code",
   "execution_count": null,
   "metadata": {
    "collapsed": true
   },
   "outputs": [],
   "source": [
    "x = np.linspace(0, 10, 100)"
   ]
  },
  {
   "cell_type": "markdown",
   "metadata": {},
   "source": [
    "Wenden wir nun eine Numpy-Funktion auf den Array an, beispielsweise die Sinusfunktion"
   ]
  },
  {
   "cell_type": "code",
   "execution_count": null,
   "metadata": {
    "collapsed": false
   },
   "outputs": [],
   "source": [
    "y = np.sin(x)"
   ]
  },
  {
   "cell_type": "markdown",
   "metadata": {},
   "source": [
    "so erhalten wir einen weiteren Array mit den zugehörigen Funktionswerten zu jedem Wert in x"
   ]
  },
  {
   "cell_type": "markdown",
   "metadata": {},
   "source": [
    "Wir können selbstverständlich auch komplexere Funktionen kreieren"
   ]
  },
  {
   "cell_type": "code",
   "execution_count": null,
   "metadata": {
    "collapsed": true
   },
   "outputs": [],
   "source": [
    "y2 = np.exp(-(x-5)**2/5) * np.sin(10 * x)"
   ]
  },
  {
   "cell_type": "markdown",
   "metadata": {},
   "source": [
    "Mithilfe von Matplotlib, können wir uns die Funktionswerte auch grafisch anzeigen lassen:"
   ]
  },
  {
   "cell_type": "code",
   "execution_count": null,
   "metadata": {
    "collapsed": false
   },
   "outputs": [],
   "source": [
    "plt.plot(x, y)\n",
    "plt.plot(x, y2)\n",
    "plt.show()"
   ]
  },
  {
   "cell_type": "markdown",
   "metadata": {},
   "source": [
    "# Hartree Fock\n",
    "## Molekül-Orbitale\n",
    "### MO-LCAO Beschreibung von $H_2$"
   ]
  },
  {
   "cell_type": "markdown",
   "metadata": {},
   "source": [
    "Hinweis: Dieses Notebook orientiert sich an S. 55 ff. im Buch Modern Quantum Chemistry: Introduction to Advanced Electronic Structure Theory von Szabo und Ostlund\n",
    "\n",
    "Das 1s-Orbital eines Wasserstoff-Atoms ist gegeben durch\n",
    "\n",
    "$$\\Phi({\\bf r}) = (\\zeta^3/\\pi)^{1/2} \\exp(-\\zeta(|{\\bf r} - {\\bf R}|) = (\\zeta^3/\\pi)^{1/2} \\exp\\left(-\\zeta\\sqrt{(x-X)^2+(y-Y)^2+(z-Z)^2}\\right)$$\n",
    "\n",
    "mit $\\zeta = 1.0$\n",
    "\n",
    "Dieses Orbital wird auch *Slater Orbital* genannt\n",
    "\n",
    "\n",
    "\n",
    "Alternativ kann das 1s-Orbital durch eine Gauß-Funktion dargestellt werden.\n",
    "Das hat den Vorteil, dass Integrale leichter berechnet werden können.\n",
    "\n",
    "Ein Gauß-Orbital hat die Form\n",
    "\n",
    "$$\\Phi({\\bf r}) = (2\\alpha/\\pi)^{3/4} \\exp\\left(-\\alpha|{\\bf r} - {\\bf R}|^2\\right)$$\n",
    "\n",
    "Mit $\\alpha = 1.0$"
   ]
  },
  {
   "cell_type": "markdown",
   "metadata": {},
   "source": [
    "### Aufgabe 1\n",
    "\n",
    "Schreiben Sie eine Funktion slater(x, y, z, X, Y, Z), die für gegebenen Ursprungsvektor R = (X, Y, Z) den Wert des Slaterorbitals an einem Ort im Raum r = (x, y, z) zurückgibt\n",
    "\n",
    "\n",
    "### Aufgabe 2\n",
    "\n",
    "Implementieren Sie analog eine Funktion, die ein Gauß-Orbital berechnet\n",
    "\n",
    "Plotten Sie beide Funktionen entlang der x-Achse mit y = z = 0, und R = (0, 0, 0)"
   ]
  },
  {
   "cell_type": "code",
   "execution_count": null,
   "metadata": {
    "collapsed": false
   },
   "outputs": [],
   "source": [
    "def slater(x, y, z, X, Y, Z):\n",
    "    return # ...\n",
    "\n",
    "\n",
    "def gaussian(x, y, z, X, Y, Z):\n",
    "    return # ...\n",
    "\n",
    "\n",
    "x = # ...\n",
    "\n",
    "slater_result = # ...\n",
    "gaussian_result = # ...\n",
    "\n",
    "plt.plot(x, slater_result)\n",
    "plt.plot(x, gaussian_result)\n",
    "plt.xlabel(\"x-Achse\")\n",
    "plt.ylabel(\"$\\Phi(x)$\")\n",
    "plt.show()\n"
   ]
  },
  {
   "cell_type": "markdown",
   "metadata": {},
   "source": [
    "Sie sollten nun die zwei Orbitale sehen.\n",
    "\n",
    "\n",
    "### Aufgabe 3 - Normierung\n",
    "\n",
    "Vergewissern Sie sich nun, dass beide Orbitale normiert sind, indem Sie die quadrierten Wellenfunktionen über drei Dimensionen integrieren:\n",
    "$$ \\int\\limits_V \\Phi^*({\\bf r})\\Phi({\\bf r}) dV \\approx \\sum\\limits_i \\Phi^*({\\bf r})\\Phi({\\bf r}) \\Delta V$$\n",
    "Gehen Sie dazu vor wie folgt:\n",
    "  * Erzeugen Sie mithilfe von np.linspace drei Vektoren x_range, y_range und z_range mit Werten zwischen -5 und 5\n",
    "  * Definieren Sie eine Variable *summe*. \n",
    "  Iterieren Sie mithilfe dreier for-Schleifen über alle Punkte in x-, y- und z-Richtung und addieren Sie für jede x-y-z-Kombination das Quadrat der Wellenfunktion an dem jeweiligen Punkt multipliziert mit dem Volumenelement zu *summe*"
   ]
  },
  {
   "cell_type": "code",
   "execution_count": null,
   "metadata": {
    "collapsed": false
   },
   "outputs": [],
   "source": [
    "def integral(funktion):\n",
    "    x_range = y_range = z_range = np.linspace(-5, 5, 50)\n",
    "    summe = 0\n",
    "    dV = # ...\n",
    "    for x in x_range:\n",
    "        for y in y_range:\n",
    "            for z in z_range:\n",
    "                # ...\n",
    "    return result\n",
    "                \n",
    "print(integral(slater)) \n",
    "print(integral(gaussian))"
   ]
  },
  {
   "cell_type": "markdown",
   "metadata": {
    "collapsed": true
   },
   "source": [
    "### Aufgabe 4 - Orthogonalität\n",
    "\n",
    "Überprüfen Sie nun die Orthogonalität der Gaußschen Wellenfunktion.\n",
    "Im Falle von $H_2$ und dem Modell der Minimal Orbital - Linear Combination of Atomic Orbitals (MO-LCAO), existieren zwei Gaußsche Funktionen $\\Phi_1$ und $\\Phi_2$, deren Zentren sich bei $R_1$ respektive $R_2$ befinden.\n",
    "\n",
    "Berechnen Sie das Überlappintegral $$ S_{12} = \\int\\limits_V \\Phi_1^*({\\bf r}, {\\bf R_1}) \\Phi_2({\\bf r}, {\\bf R_2}) dV $$\n",
    "\n",
    "* für $R_1$ = $R_2$ = [0, 0, 0]\n",
    "* für $R_1$ = [0, 0, 0], $R_2$ = [1, 0, 0]\n",
    "* Optional: Plotten Sie den Verlauf von $S_{12}$ für verschiedene Werte von $R_2$\n",
    "\n",
    "*Hinweis*: Im Falle zweier Gauß-Funktionen \n",
    "$$\\Phi_1(r) = \\exp(-\\alpha |r - R|^2)$$\n",
    "$$\\Phi_2(r) = \\exp(-\\beta |r - R|^2)$$\n",
    "\n",
    "ist das Überlappintegral analytisch gegeben durch:\n",
    "$$S_{12} = \\left<\\Psi_1|\\Psi_2\\right> = \\left(\\frac{2\\alpha}{\\alpha+\\beta}\\right)^{3/2} \\exp(-\\frac{\\alpha\\beta}{\\alpha+\\beta} \\left|R_A - R_B\\right|^2)$$\n",
    "\n",
    "Sie können die Formel benutzen, um ihr numerisches Ergebnis zu überprüfen.\n",
    "\n",
    "Konstruieren Sie nun die folgenden Funktionen:\n",
    "\n",
    "$$\\Psi_1 = \\frac{1}{\\sqrt{2(1 + S_{12})}}(\\Phi_1 + \\Phi_2)$$\n",
    "\n",
    "$$\\Psi_2 = \\frac{1}{\\sqrt{2(1 - S_{12})}}(\\Phi_1 - \\Phi_2)$$\n",
    "\n",
    "* Zeigen Sie, dass $\\Psi_1$ und $\\Psi_2$ orthonormal zueinander sind.\n",
    "* Plotten Sie die beiden Funktionen entlang der x-Achse"
   ]
  },
  {
   "cell_type": "code",
   "execution_count": null,
   "metadata": {
    "collapsed": false
   },
   "outputs": [],
   "source": [
    "# Ergänzen Sie hier den Code der Überlappfunktion, die zwei Funktionen als Argument nimmt, sowie die Zentren R1 und R2, \n",
    "# und das Überlappintegral berechnet\n",
    "def overlap_numerical(f1, f2, X1, Y1, Z1, X2, Y2, Z2):\n",
    "    \"\"\"Numerische Berechnung des Überlappintegrals\"\"\"\n",
    "\n",
    "    x_range = y_range = z_range = np.linspace(-5, 5)\n",
    "    \n",
    "    S_12 = 0\n",
    "    dV = # ...\n",
    "    for x in x_range:\n",
    "        for y in y_range:\n",
    "            for z in z_range:\n",
    "                # ...\n",
    "    return S_12\n",
    "\n",
    "\n",
    "def overlap_analytical(X1, Y1, Z1, X2, Y2, Z2, alpha=1.0, beta=1.0):\n",
    "    return # ...\n",
    "\n",
    "\n",
    "print(\"Überlapp zweier Gaussians mit R = (0, 0, 0)\")\n",
    "print(\"Numerisch:\", end=\" \")\n",
    "print(overlap_numerical(gaussian, gaussian, 0, 0, 0, 0, 0, 0))\n",
    "print(\"Analytisch:\", end=\" \")\n",
    "print(overlap_analytical(0, 0, 0, 0, 0, 0))\n",
    "\n",
    "print(\"Ein Gaussian mit R = (1, 0, 0)\")\n",
    "print(\"Numerisch:\", end=\" \")\n",
    "print(overlap_numerical(gaussian, gaussian, 0, 0, 0, 1, 0, 0))\n",
    "print(\"Analytisch:\", end=\" \")\n",
    "print(overlap_analytical(0, 0, 0, 1, 0, 0))"
   ]
  },
  {
   "cell_type": "markdown",
   "metadata": {},
   "source": [
    "Konstruktion von $\\Psi_1$ und $\\Psi_2$"
   ]
  },
  {
   "cell_type": "code",
   "execution_count": null,
   "metadata": {
    "collapsed": true
   },
   "outputs": [],
   "source": [
    "S_12 = # ...\n",
    "\n",
    "# Eigentlich haben psi_1 und psi_2 keinen Ursprung R. Daher sind die Parameter X, Y, Z auch überflüssig\n",
    "# Damit die Funktion overlap_numerical aber keinen Fehler meldet bei der Berechnung, geben wir X, Y und\n",
    "# Z hier als \"Dummy-Parameter\" an, die für das Ergebnis keine Rolle spielen\n",
    "def psi1(x, y, z, X, Y, Z):\n",
    "    return # ...\n",
    "\n",
    "\n",
    "def psi2(x, y, z, X, Y, Z):\n",
    "    return # ...\n",
    "\n",
    "# Bemerkung: für andere Atomabstände R1, und R2 müssten wir entsprechend psi1 und psi2, sowie das Überlappintegral anpassen"
   ]
  },
  {
   "cell_type": "code",
   "execution_count": null,
   "metadata": {
    "collapsed": false
   },
   "outputs": [],
   "source": [
    "# Sind die beiden Funktionen orthonormal zueinander?\n",
    "\n",
    "# ..."
   ]
  },
  {
   "cell_type": "code",
   "execution_count": null,
   "metadata": {
    "collapsed": false
   },
   "outputs": [],
   "source": [
    "# Plotten Sie die beiden Funktionen entlang der x-Achse für y = 0 und z = 0!\n",
    "\n",
    "# ..."
   ]
  },
  {
   "cell_type": "code",
   "execution_count": null,
   "metadata": {
    "collapsed": true
   },
   "outputs": [],
   "source": []
  }
 ],
 "metadata": {
  "anaconda-cloud": {},
  "kernelspec": {
   "display_name": "Python [conda root]",
   "language": "python",
   "name": "conda-root-py"
  },
  "language_info": {
   "codemirror_mode": {
    "name": "ipython",
    "version": 3
   },
   "file_extension": ".py",
   "mimetype": "text/x-python",
   "name": "python",
   "nbconvert_exporter": "python",
   "pygments_lexer": "ipython3",
   "version": "3.5.2"
  }
 },
 "nbformat": 4,
 "nbformat_minor": 1
}
